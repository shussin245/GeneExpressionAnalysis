{
  "nbformat": 4,
  "nbformat_minor": 0,
  "metadata": {
    "colab": {
      "provenance": [],
      "authorship_tag": "ABX9TyMUnVn8Omb47mTF2gIrEjVU",
      "include_colab_link": true
    },
    "kernelspec": {
      "name": "ir",
      "display_name": "R"
    },
    "language_info": {
      "name": "R"
    }
  },
  "cells": [
    {
      "cell_type": "markdown",
      "metadata": {
        "id": "view-in-github",
        "colab_type": "text"
      },
      "source": [
        "<a href=\"https://colab.research.google.com/github/shussin245/GeneExpressionAnalysis/blob/main/WorkSample_GenExpAna_Copy.ipynb\" target=\"_parent\"><img src=\"https://colab.research.google.com/assets/colab-badge.svg\" alt=\"Open In Colab\"/></a>"
      ]
    },
    {
      "cell_type": "markdown",
      "source": [
        "## **Introduction**"
      ],
      "metadata": {
        "id": "EYwC_TGR2amg"
      }
    },
    {
      "cell_type": "markdown",
      "source": [
        "Hello! This is a walk-through tutorial on how I go about analzying gene expressions to develop models that can accurately predict a patient's response or resistance to immunotherapy. In this tutorial, we will go over some key terms as well as what exactly our code is composed of. For simplicity, I only use two alpha values, test 1000 values of lambda, and run the script 2x. However, in the \"real world\", we tend to use much, *much* larger numbers. Also, I created dummy datasets just for this example, however, we often use datasets with many more genes (here, we only have 249) with actual names. Anyways, enjoy this tutorial! I hope that I can teach you something new today and communicate the importance of statistics and computational analysis in solving real-world, biological problems."
      ],
      "metadata": {
        "id": "skmYLTSh2fLH"
      }
    },
    {
      "cell_type": "markdown",
      "source": [
        "## **Packages/Libraries Required**"
      ],
      "metadata": {
        "id": "RnosiDoCZMl4"
      }
    },
    {
      "cell_type": "markdown",
      "source": [
        "These are the required libraries for this code. It may take 3-5 minutes to get all the packages installed."
      ],
      "metadata": {
        "id": "4R6y36S81SE3"
      }
    },
    {
      "cell_type": "code",
      "source": [
        "#<--- Make sure to click the RUN button to run every line of code!"
      ],
      "metadata": {
        "id": "d_rqRuUPD_VZ"
      },
      "execution_count": null,
      "outputs": []
    },
    {
      "cell_type": "code",
      "execution_count": null,
      "metadata": {
        "id": "rVp_alT5XTym"
      },
      "outputs": [],
      "source": [
        "library(dplyr)              #Required for dataset manipulation in R\n",
        "install.packages(\"glmnet\")  #Required for elastic net models\n",
        "library(glmnet)\n",
        "install.packages(\"ROCR\")    #Required for measuring and visualizing model performance\n",
        "library(ROCR)\n",
        "library(tidyr)              #Easier data readability and management\n",
        "install.packages(\"vip\")     #Required for determining gene importance\n",
        "library(vip)"
      ]
    },
    {
      "cell_type": "markdown",
      "source": [
        "## **The Data** "
      ],
      "metadata": {
        "id": "fvX7DYThcrZT"
      }
    },
    {
      "cell_type": "markdown",
      "source": [
        "* Our \"training\" dataset is the data we use to train our model\n",
        "* Our \"testing\" dataset is the data we will use to see if our model is a good performer\n",
        "* \"x\" and \"xt\" = Gene expressions for training and testing datasets, respectively\n",
        "* \"y\" and \"yt\" = Patient's response to immunotherapy for training and testing datasets, respectively\n",
        "* 0 = no response\n",
        "* 1 = response"
      ],
      "metadata": {
        "id": "ClpayYARgV2N"
      }
    },
    {
      "cell_type": "code",
      "source": [
        "#Training dataset\n",
        "train = read.csv(\"https://raw.githubusercontent.com/shussin245/NGS/main/Sample_Train.csv\")\n",
        "x = as.matrix(train[1:249])\n",
        "y = train$Response                \n",
        "\n",
        "#Testing dataset\n",
        "test = read.csv(\"https://raw.githubusercontent.com/shussin245/NGS/main/Sample_Test.csv\")\n",
        "xt = as.matrix(test[1:249])\n",
        "yt = test$Response"
      ],
      "metadata": {
        "id": "e6ZHMl6uYEaa"
      },
      "execution_count": null,
      "outputs": []
    },
    {
      "cell_type": "markdown",
      "source": [
        "* To see what the data looks like, make a new code line and type:\n",
        "\n",
        "```\n",
        "train\n",
        "```\n",
        "or\n",
        "\n",
        "```\n",
        "test\n",
        "```"
      ],
      "metadata": {
        "id": "3oCLxdHpkLNR"
      }
    },
    {
      "cell_type": "markdown",
      "source": [
        "## **WARNING: BIG AND FANCY WORDS AHEAD**"
      ],
      "metadata": {
        "id": "pURF92grnKwT"
      }
    },
    {
      "cell_type": "markdown",
      "source": [
        "### *Regularization*\n",
        "\n",
        "Regularization is a form of regression that is designed to make models \"simpler\" by decreasing the feature (i.e. gene) coefficients to 0, thus, elimating genes that have no predicitive value and limiting covariance (features that behave similarily). There are two techniques for regularization:\n",
        "\n",
        "\n",
        "1.   L1 Regularization: Penalizes the sum of absolute values of the coefficients, performing selection by reducing gene coefficients to 0.\n",
        "2.   L2 Regularization: Penalizes the sum of squares of the coefficients, thus, doesn't perform selection since it only reduces the coefficients to values *near* 0 (i.e. uses every gene in the model).\n",
        "\n",
        "\n",
        "\n"
      ],
      "metadata": {
        "id": "70eGOndgT_r3"
      }
    },
    {
      "cell_type": "markdown",
      "source": [
        "### *What is Elastic Net?*\n",
        "* Elastic net is a statistical regularization technique that combines the L1 and L2 penalties\n",
        "* The alpha (𝛼) parameter is any value between 0 and 1 that determines how much of each penalty is applied in the model\n",
        "* Ridge models (𝛼 = 0) use all the genes for our model\n",
        "* Lasso models (𝛼 = 1) reduce the weight of the genes so that most genes are completely opted out of the model, thus, leaving only the genes that make the best model :)\n",
        "* Generally, as we increase the 𝛼 value, the less genes our model will use, as more of the L1 penalty is applied"
      ],
      "metadata": {
        "id": "vpWWZWcbsixk"
      }
    },
    {
      "cell_type": "markdown",
      "source": [
        "### *Importance of Cross-Validation*\n",
        "* Cross-validation discovers the best lambda (𝜆) and also prevents over-fitting, which is a model that fits too closely with the training set and won't be able to perform well with our testing set\n",
        "* The 𝜆 value is where the model has the smallest mean cross-validated error"
      ],
      "metadata": {
        "id": "HSme3An-xroG"
      }
    },
    {
      "cell_type": "markdown",
      "source": [
        "### *How do we even know if our model is good enough?*\n",
        "* AUC scores measure our model's prediction performance on a scale of 0 to 1  (the higher the AUC, the better our model is able to distinguish between the responders and non-responders)\n",
        "* An AUC of 0.5 is a random classifier, thus, scores lower than 0.5 perform worse than random :(\n",
        "* The ROC curve is simply a visual representation of our AUC score, with the diagnol line representing an AUC of 0.5\n",
        "* The more the curve is leaned towards the top left, the better our model\n",
        "* Later, we will see that the plot is the true positive rate (TPR) against the false positive rate (FPR). We want to have the least possible value for FPR while having the highest possible value for TPR). So, you will see later while the top left corner is important. \n",
        "* In this script, I only show the best models that I get (again, we could run the script 1000x, but I only do it here 2x)"
      ],
      "metadata": {
        "id": "gC2ThmcMxsDV"
      }
    },
    {
      "cell_type": "markdown",
      "source": [
        "### *Feature Importance*\n",
        "\n",
        "Features are anything that serve to predict the outcome. In this case, the genes are the features and the patient response is the outcome. When we get our models, not only do we get the performance of the model, but we also get genes and their coefficients for that particular model. Of course, we can read every gene and its coefficient, but a plot is more fun. The higher the coefficient, the more predictive value that gene holds. It's important to note that coefficients can be negative, thus, we consider the absolute value of the coefficients since a negative coefficient just means that there's an inverse relationship between the gene and the response."
      ],
      "metadata": {
        "id": "6fJ5q7rQYMLc"
      }
    },
    {
      "cell_type": "markdown",
      "source": [
        "## **BEHOLD THE CODE**"
      ],
      "metadata": {
        "id": "tb0GX5XPyFXv"
      }
    },
    {
      "cell_type": "code",
      "source": [
        "#Set seed to be able to reproduce the data (imagine getting an excellent model, but forgetting to set.seed!?)\n",
        "set.seed(123)       \n",
        "\n",
        "#Creating a model for multiple values of alpha\n",
        "#Using alpha 0.3 and 1, but can be any value between 0 and 1\n",
        "for(al in c(0.3, 1))    \n",
        "{\n",
        "  #Repeated this process 2x\n",
        "  for(i in 1:2)                                                      \n",
        "  {\n",
        "    print(paste0(\"Alpha: \", al))\n",
        "\n",
        "    #Cross-validation finds the best lambda\n",
        "    model = cv.glmnet(x, y, alpha=al, nlambda=1000, family=\"binomial\", type.measure=\"auc\", nfolds=3)\n",
        "\n",
        "    #Lambda that has the lowest cross-validation error\n",
        "    best_lam = model$lambda.min                                                                \n",
        "    print(paste(\"Best lambda: \", best_lam))\n",
        "\n",
        "    #Creating another model using the best lambda value\n",
        "    best_lam_model = glmnet(x, y, alpha=al, lambda=best_lam, family=\"binomial\")\n",
        "\n",
        "    #Creating a feature importance plot that illustrates the significane of each gene in the model\n",
        "    #Shows only the first 20 genes, but can be adjusted to show any number of genes from our model\n",
        "    gene_imp = vip(best_lam_model, num_features=20L, geom=\"col\", aesthetics= list(col=\"pink\"))\n",
        "    plot(gene_imp)\n",
        "\n",
        "    #If the model has a AUC score above 0.7, \n",
        "    #then it will move on to validation using the test dataset \n",
        "    test1 = max(model$cvm)\n",
        "    if(test1 > 0.7)\n",
        "    {\n",
        "      #Seeing how well our model predicts response for patients with different\n",
        "      #gene expressions\n",
        "      prob_data = predict(best_lam_model, xt, type=\"response\")                                        \n",
        "      pred_data = prediction(prob_data, yt)\n",
        "\n",
        "      #Measuring the performance of our predictions \n",
        "      #(i.e. were the predictions correct?)                                                           \n",
        "      aucs = attr(performance(pred_data, \"auc\"), \"y.values\")[[1]]\n",
        "\n",
        "      #The AUC score for our model                                \n",
        "      formatted_auc = signif(aucs, digits=5) \n",
        "\n",
        "      #The ROC plot visualizes our model performance\n",
        "      rocs = performance(pred_data, measure=\"tpr\", x.measure=\"fpr\")\n",
        "\n",
        "      #Showing the scores, plots, and genes from the best models\n",
        "      if(formatted_auc > 0.7)\n",
        "      {\n",
        "        print(paste0(\"CV AUC: \", max(model$cvm)))\n",
        "        print(paste0(\"VAL AUC: \", formatted_auc))\n",
        "\n",
        "        #Printing the coefficients associated with our model\n",
        "        coefs = rownames(coef(best_lam_model))[coef(best_lam_model)[,1]!= 0]\n",
        "        print(coefs)\n",
        "        plot(rocs, lwd=2, col=\"red\")\n",
        "\n",
        "        #Diagnol line that represents a random classifier\n",
        "        abline(a=0, b=1)\n",
        "      }\n",
        "      else\n",
        "      print(paste0(\"NOT GOOD MODEL - TEST AUC: \", formatted_auc))\n",
        "    }\n",
        "    else\n",
        "    {\n",
        "      print(paste0(\"MODEL DID NOT PROCEED TO VALIDATION - CV AUC: \", model$cvm))\n",
        "    }\n",
        "  }\n",
        "}"
      ],
      "metadata": {
        "id": "qOEGjw9sYp3w"
      },
      "execution_count": null,
      "outputs": []
    },
    {
      "cell_type": "markdown",
      "source": [
        "## **Final notes...**"
      ],
      "metadata": {
        "id": "hlh2mwzy65q2"
      }
    },
    {
      "cell_type": "markdown",
      "source": [
        "I really hope you enjoyed this tutorial! This walk-through was also designed to be interactive. You can always go back and change some of the code. For example, you can change the alpha value to a lower value to see which genes you get or you can use different datasets if you like! If you have an questions or concerns, please reach out to me at sh284752@gmail.com!"
      ],
      "metadata": {
        "id": "AhvdXPTo69cZ"
      }
    },
    {
      "cell_type": "markdown",
      "source": [
        "## **Edits and Updates**"
      ],
      "metadata": {
        "id": "NEki8nsxzacq"
      }
    },
    {
      "cell_type": "markdown",
      "source": [
        "03/30/2022: Corrected text errors.\n",
        "            Added a line that made sure viewers clicked the RUN button."
      ],
      "metadata": {
        "id": "fsVb9s6mzdWX"
      }
    },
    {
      "cell_type": "markdown",
      "source": [
        "04/28/2022: Corrected text errors. Provided more information on regularization and feature importance. Installed the VIP package. Included code that develops a feature importance plot."
      ],
      "metadata": {
        "id": "rlgJhX_PXQyC"
      }
    },
    {
      "cell_type": "markdown",
      "source": [
        "04/29/2022: Corrected text errors."
      ],
      "metadata": {
        "id": "PtgwFPf4RRyS"
      }
    },
    {
      "cell_type": "markdown",
      "source": [
        "05/18/2022: Corrected text errors."
      ],
      "metadata": {
        "id": "gGwls_oGV21p"
      }
    }
  ]
}